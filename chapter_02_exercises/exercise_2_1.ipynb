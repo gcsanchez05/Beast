{
  "nbformat": 4,
  "nbformat_minor": 0,
  "metadata": {
    "colab": {
      "name": "exercise_2.1.ipynb",
      "provenance": [],
      "authorship_tag": "ABX9TyPfBdvfJX5nsEvLF95bRmmV",
      "include_colab_link": true
    },
    "kernelspec": {
      "name": "python3",
      "display_name": "Python 3"
    }
  },
  "cells": [
    {
      "cell_type": "markdown",
      "metadata": {
        "id": "view-in-github",
        "colab_type": "text"
      },
      "source": [
        "<a href=\"https://colab.research.google.com/github/gsanc018/Financial-ML/blob/master/chapter_02_exercises/exercise_2_1.ipynb\" target=\"_parent\"><img src=\"https://colab.research.google.com/assets/colab-badge.svg\" alt=\"Open In Colab\"/></a>"
      ]
    },
    {
      "cell_type": "markdown",
      "metadata": {
        "id": "PmOJR9QHRHDg",
        "colab_type": "text"
      },
      "source": [
        "#Getting Data for Exercises"
      ]
    },
    {
      "cell_type": "code",
      "metadata": {
        "id": "xapc7Dr6MiJR",
        "colab_type": "code",
        "colab": {}
      },
      "source": [
        "#Packages\n",
        "import pandas as pd\n",
        "from datetime import datetime\n",
        "\n",
        "pip install mlfinlab\n",
        "from mlfinlab.data_structures.standard_data_structures import get_tick_bars, get_dollar_bars, get_volume_bars"
      ],
      "execution_count": 0,
      "outputs": []
    },
    {
      "cell_type": "code",
      "metadata": {
        "id": "dHmR5n7lMNYJ",
        "colab_type": "code",
        "colab": {}
      },
      "source": [
        "#Get Raw Data\n",
        "data = pd.read_csv(\"https://api.bitcoincharts.com/v1/csv/krakenUSD.csv.gz\", header = None)\n",
        "data.columns = ['timestamp', 'price', 'volume']\n",
        "data['timestamp'] = pd.to_datetime(data['timestamp'],unit='s')\n",
        "ticks = len(data)\n",
        "print(ticks)"
      ],
      "execution_count": 0,
      "outputs": []
    },
    {
      "cell_type": "markdown",
      "metadata": {
        "id": "XvrKZsQyMSvC",
        "colab_type": "text"
      },
      "source": [
        "On a series of BTCUSD tick data:\n",
        "\n",
        "#(a) \n",
        "Form tick, volume, and dollar bars."
      ]
    },
    {
      "cell_type": "code",
      "metadata": {
        "id": "zJIHQSbENAvB",
        "colab_type": "code",
        "colab": {}
      },
      "source": [
        "#Make dataset smaller\n",
        "btc = data[-1000000:]\n",
        "btc.head()"
      ],
      "execution_count": 0,
      "outputs": []
    },
    {
      "cell_type": "code",
      "metadata": {
        "id": "LiE7Rxz0NRKG",
        "colab_type": "code",
        "colab": {
          "base_uri": "https://localhost:8080/",
          "height": 394
        },
        "outputId": "36b64c94-7078-46ae-9c7e-287ee59239d7"
      },
      "source": [
        "tick_bars = get_tick_bars(btc, threshold=10000,batch_size=1000000)\n",
        "print(tick_bars.shape)\n",
        "tick_bars.head()"
      ],
      "execution_count": 43,
      "outputs": [
        {
          "output_type": "stream",
          "text": [
            "Reading data in batches:\n",
            "Batch number: 0\n",
            "Returning bars \n",
            "\n",
            "(100, 10)\n"
          ],
          "name": "stdout"
        },
        {
          "output_type": "execute_result",
          "data": {
            "text/html": [
              "<div>\n",
              "<style scoped>\n",
              "    .dataframe tbody tr th:only-of-type {\n",
              "        vertical-align: middle;\n",
              "    }\n",
              "\n",
              "    .dataframe tbody tr th {\n",
              "        vertical-align: top;\n",
              "    }\n",
              "\n",
              "    .dataframe thead th {\n",
              "        text-align: right;\n",
              "    }\n",
              "</style>\n",
              "<table border=\"1\" class=\"dataframe\">\n",
              "  <thead>\n",
              "    <tr style=\"text-align: right;\">\n",
              "      <th></th>\n",
              "      <th>date_time</th>\n",
              "      <th>tick_num</th>\n",
              "      <th>open</th>\n",
              "      <th>high</th>\n",
              "      <th>low</th>\n",
              "      <th>close</th>\n",
              "      <th>volume</th>\n",
              "      <th>cum_buy_volume</th>\n",
              "      <th>cum_ticks</th>\n",
              "      <th>cum_dollar_value</th>\n",
              "    </tr>\n",
              "  </thead>\n",
              "  <tbody>\n",
              "    <tr>\n",
              "      <th>0</th>\n",
              "      <td>2019-10-29 13:32:25</td>\n",
              "      <td>10000</td>\n",
              "      <td>9465.8</td>\n",
              "      <td>9563.8</td>\n",
              "      <td>9187.6</td>\n",
              "      <td>9287.7</td>\n",
              "      <td>3711.977026</td>\n",
              "      <td>1699.951972</td>\n",
              "      <td>10000</td>\n",
              "      <td>3.484177e+07</td>\n",
              "    </tr>\n",
              "    <tr>\n",
              "      <th>1</th>\n",
              "      <td>2019-10-30 00:17:49</td>\n",
              "      <td>20000</td>\n",
              "      <td>9287.7</td>\n",
              "      <td>9532.2</td>\n",
              "      <td>9030.0</td>\n",
              "      <td>9407.0</td>\n",
              "      <td>3760.422935</td>\n",
              "      <td>1835.342589</td>\n",
              "      <td>10000</td>\n",
              "      <td>3.511051e+07</td>\n",
              "    </tr>\n",
              "    <tr>\n",
              "      <th>2</th>\n",
              "      <td>2019-10-30 15:59:03</td>\n",
              "      <td>30000</td>\n",
              "      <td>9405.5</td>\n",
              "      <td>9430.7</td>\n",
              "      <td>9000.0</td>\n",
              "      <td>9128.3</td>\n",
              "      <td>3298.552154</td>\n",
              "      <td>1483.221144</td>\n",
              "      <td>10000</td>\n",
              "      <td>3.030075e+07</td>\n",
              "    </tr>\n",
              "    <tr>\n",
              "      <th>3</th>\n",
              "      <td>2019-10-31 09:05:52</td>\n",
              "      <td>40000</td>\n",
              "      <td>9124.4</td>\n",
              "      <td>9236.4</td>\n",
              "      <td>9022.1</td>\n",
              "      <td>9105.0</td>\n",
              "      <td>2640.351804</td>\n",
              "      <td>1391.953207</td>\n",
              "      <td>10000</td>\n",
              "      <td>2.413041e+07</td>\n",
              "    </tr>\n",
              "    <tr>\n",
              "      <th>4</th>\n",
              "      <td>2019-10-31 12:31:31</td>\n",
              "      <td>50000</td>\n",
              "      <td>9105.0</td>\n",
              "      <td>9459.7</td>\n",
              "      <td>8949.6</td>\n",
              "      <td>9344.1</td>\n",
              "      <td>1504.198798</td>\n",
              "      <td>748.975700</td>\n",
              "      <td>10000</td>\n",
              "      <td>1.377889e+07</td>\n",
              "    </tr>\n",
              "  </tbody>\n",
              "</table>\n",
              "</div>"
            ],
            "text/plain": [
              "            date_time  tick_num  ...  cum_ticks  cum_dollar_value\n",
              "0 2019-10-29 13:32:25     10000  ...      10000      3.484177e+07\n",
              "1 2019-10-30 00:17:49     20000  ...      10000      3.511051e+07\n",
              "2 2019-10-30 15:59:03     30000  ...      10000      3.030075e+07\n",
              "3 2019-10-31 09:05:52     40000  ...      10000      2.413041e+07\n",
              "4 2019-10-31 12:31:31     50000  ...      10000      1.377889e+07\n",
              "\n",
              "[5 rows x 10 columns]"
            ]
          },
          "metadata": {
            "tags": []
          },
          "execution_count": 43
        }
      ]
    },
    {
      "cell_type": "code",
      "metadata": {
        "id": "dque2N1ZNWHn",
        "colab_type": "code",
        "colab": {
          "base_uri": "https://localhost:8080/",
          "height": 394
        },
        "outputId": "54b8b049-c089-46e7-a86f-a606e3374293"
      },
      "source": [
        "volume_bars = get_volume_bars(btc, threshold = 5, batch_size = 1000000)\n",
        "print(volume_bars.shape)\n",
        "volume_bars.head()"
      ],
      "execution_count": 44,
      "outputs": [
        {
          "output_type": "stream",
          "text": [
            "Reading data in batches:\n",
            "Batch number: 0\n",
            "Returning bars \n",
            "\n",
            "(57924, 10)\n"
          ],
          "name": "stdout"
        },
        {
          "output_type": "execute_result",
          "data": {
            "text/html": [
              "<div>\n",
              "<style scoped>\n",
              "    .dataframe tbody tr th:only-of-type {\n",
              "        vertical-align: middle;\n",
              "    }\n",
              "\n",
              "    .dataframe tbody tr th {\n",
              "        vertical-align: top;\n",
              "    }\n",
              "\n",
              "    .dataframe thead th {\n",
              "        text-align: right;\n",
              "    }\n",
              "</style>\n",
              "<table border=\"1\" class=\"dataframe\">\n",
              "  <thead>\n",
              "    <tr style=\"text-align: right;\">\n",
              "      <th></th>\n",
              "      <th>date_time</th>\n",
              "      <th>tick_num</th>\n",
              "      <th>open</th>\n",
              "      <th>high</th>\n",
              "      <th>low</th>\n",
              "      <th>close</th>\n",
              "      <th>volume</th>\n",
              "      <th>cum_buy_volume</th>\n",
              "      <th>cum_ticks</th>\n",
              "      <th>cum_dollar_value</th>\n",
              "    </tr>\n",
              "  </thead>\n",
              "  <tbody>\n",
              "    <tr>\n",
              "      <th>0</th>\n",
              "      <td>2019-10-28 22:33:53</td>\n",
              "      <td>16</td>\n",
              "      <td>9465.8</td>\n",
              "      <td>9478.7</td>\n",
              "      <td>9465.1</td>\n",
              "      <td>9478.7</td>\n",
              "      <td>5.551395</td>\n",
              "      <td>5.129283</td>\n",
              "      <td>16</td>\n",
              "      <td>52593.965738</td>\n",
              "    </tr>\n",
              "    <tr>\n",
              "      <th>1</th>\n",
              "      <td>2019-10-28 22:38:15</td>\n",
              "      <td>54</td>\n",
              "      <td>9478.7</td>\n",
              "      <td>9486.0</td>\n",
              "      <td>9474.2</td>\n",
              "      <td>9486.0</td>\n",
              "      <td>5.926646</td>\n",
              "      <td>3.841495</td>\n",
              "      <td>38</td>\n",
              "      <td>56200.985867</td>\n",
              "    </tr>\n",
              "    <tr>\n",
              "      <th>2</th>\n",
              "      <td>2019-10-28 22:41:11</td>\n",
              "      <td>74</td>\n",
              "      <td>9486.9</td>\n",
              "      <td>9488.8</td>\n",
              "      <td>9477.3</td>\n",
              "      <td>9477.3</td>\n",
              "      <td>5.574426</td>\n",
              "      <td>3.497665</td>\n",
              "      <td>20</td>\n",
              "      <td>52867.153021</td>\n",
              "    </tr>\n",
              "    <tr>\n",
              "      <th>3</th>\n",
              "      <td>2019-10-28 22:42:52</td>\n",
              "      <td>99</td>\n",
              "      <td>9477.3</td>\n",
              "      <td>9477.4</td>\n",
              "      <td>9465.0</td>\n",
              "      <td>9465.0</td>\n",
              "      <td>5.406823</td>\n",
              "      <td>0.557660</td>\n",
              "      <td>25</td>\n",
              "      <td>51199.556214</td>\n",
              "    </tr>\n",
              "    <tr>\n",
              "      <th>4</th>\n",
              "      <td>2019-10-28 22:48:52</td>\n",
              "      <td>132</td>\n",
              "      <td>9465.0</td>\n",
              "      <td>9479.6</td>\n",
              "      <td>9462.1</td>\n",
              "      <td>9479.6</td>\n",
              "      <td>5.429303</td>\n",
              "      <td>3.514753</td>\n",
              "      <td>33</td>\n",
              "      <td>51419.238758</td>\n",
              "    </tr>\n",
              "  </tbody>\n",
              "</table>\n",
              "</div>"
            ],
            "text/plain": [
              "            date_time  tick_num  ...  cum_ticks  cum_dollar_value\n",
              "0 2019-10-28 22:33:53        16  ...         16      52593.965738\n",
              "1 2019-10-28 22:38:15        54  ...         38      56200.985867\n",
              "2 2019-10-28 22:41:11        74  ...         20      52867.153021\n",
              "3 2019-10-28 22:42:52        99  ...         25      51199.556214\n",
              "4 2019-10-28 22:48:52       132  ...         33      51419.238758\n",
              "\n",
              "[5 rows x 10 columns]"
            ]
          },
          "metadata": {
            "tags": []
          },
          "execution_count": 44
        }
      ]
    },
    {
      "cell_type": "code",
      "metadata": {
        "id": "AEgDUQ05NYdd",
        "colab_type": "code",
        "colab": {
          "base_uri": "https://localhost:8080/",
          "height": 394
        },
        "outputId": "bf0ac9d6-1a9a-4dc1-8d3f-5065297946ef"
      },
      "source": [
        "dollar_bars = get_dollar_bars(btc,threshold=10000, batch_size = 1000000)\n",
        "print(dollar_bars.shape)\n",
        "dollar_bars.head()"
      ],
      "execution_count": 45,
      "outputs": [
        {
          "output_type": "stream",
          "text": [
            "Reading data in batches:\n",
            "Batch number: 0\n",
            "Returning bars \n",
            "\n",
            "(156146, 10)\n"
          ],
          "name": "stdout"
        },
        {
          "output_type": "execute_result",
          "data": {
            "text/html": [
              "<div>\n",
              "<style scoped>\n",
              "    .dataframe tbody tr th:only-of-type {\n",
              "        vertical-align: middle;\n",
              "    }\n",
              "\n",
              "    .dataframe tbody tr th {\n",
              "        vertical-align: top;\n",
              "    }\n",
              "\n",
              "    .dataframe thead th {\n",
              "        text-align: right;\n",
              "    }\n",
              "</style>\n",
              "<table border=\"1\" class=\"dataframe\">\n",
              "  <thead>\n",
              "    <tr style=\"text-align: right;\">\n",
              "      <th></th>\n",
              "      <th>date_time</th>\n",
              "      <th>tick_num</th>\n",
              "      <th>open</th>\n",
              "      <th>high</th>\n",
              "      <th>low</th>\n",
              "      <th>close</th>\n",
              "      <th>volume</th>\n",
              "      <th>cum_buy_volume</th>\n",
              "      <th>cum_ticks</th>\n",
              "      <th>cum_dollar_value</th>\n",
              "    </tr>\n",
              "  </thead>\n",
              "  <tbody>\n",
              "    <tr>\n",
              "      <th>0</th>\n",
              "      <td>2019-10-28 22:33:44</td>\n",
              "      <td>12</td>\n",
              "      <td>9465.8</td>\n",
              "      <td>9468.6</td>\n",
              "      <td>9465.1</td>\n",
              "      <td>9468.6</td>\n",
              "      <td>2.349457</td>\n",
              "      <td>1.927345</td>\n",
              "      <td>12</td>\n",
              "      <td>22244.388191</td>\n",
              "    </tr>\n",
              "    <tr>\n",
              "      <th>1</th>\n",
              "      <td>2019-10-28 22:33:53</td>\n",
              "      <td>16</td>\n",
              "      <td>9475.0</td>\n",
              "      <td>9478.7</td>\n",
              "      <td>9475.0</td>\n",
              "      <td>9478.7</td>\n",
              "      <td>3.201937</td>\n",
              "      <td>3.201937</td>\n",
              "      <td>4</td>\n",
              "      <td>30349.577547</td>\n",
              "    </tr>\n",
              "    <tr>\n",
              "      <th>2</th>\n",
              "      <td>2019-10-28 22:34:06</td>\n",
              "      <td>18</td>\n",
              "      <td>9478.7</td>\n",
              "      <td>9478.7</td>\n",
              "      <td>9478.7</td>\n",
              "      <td>9478.7</td>\n",
              "      <td>1.530000</td>\n",
              "      <td>1.530000</td>\n",
              "      <td>2</td>\n",
              "      <td>14502.411000</td>\n",
              "    </tr>\n",
              "    <tr>\n",
              "      <th>3</th>\n",
              "      <td>2019-10-28 22:35:44</td>\n",
              "      <td>32</td>\n",
              "      <td>9478.8</td>\n",
              "      <td>9485.0</td>\n",
              "      <td>9478.8</td>\n",
              "      <td>9484.9</td>\n",
              "      <td>1.924785</td>\n",
              "      <td>0.447883</td>\n",
              "      <td>14</td>\n",
              "      <td>18254.804271</td>\n",
              "    </tr>\n",
              "    <tr>\n",
              "      <th>4</th>\n",
              "      <td>2019-10-28 22:38:15</td>\n",
              "      <td>54</td>\n",
              "      <td>9484.9</td>\n",
              "      <td>9486.0</td>\n",
              "      <td>9474.2</td>\n",
              "      <td>9486.0</td>\n",
              "      <td>2.471861</td>\n",
              "      <td>1.863612</td>\n",
              "      <td>22</td>\n",
              "      <td>23443.770596</td>\n",
              "    </tr>\n",
              "  </tbody>\n",
              "</table>\n",
              "</div>"
            ],
            "text/plain": [
              "            date_time  tick_num  ...  cum_ticks  cum_dollar_value\n",
              "0 2019-10-28 22:33:44        12  ...         12      22244.388191\n",
              "1 2019-10-28 22:33:53        16  ...          4      30349.577547\n",
              "2 2019-10-28 22:34:06        18  ...          2      14502.411000\n",
              "3 2019-10-28 22:35:44        32  ...         14      18254.804271\n",
              "4 2019-10-28 22:38:15        54  ...         22      23443.770596\n",
              "\n",
              "[5 rows x 10 columns]"
            ]
          },
          "metadata": {
            "tags": []
          },
          "execution_count": 45
        }
      ]
    },
    {
      "cell_type": "markdown",
      "metadata": {
        "id": "Ngy9SCAwPCoT",
        "colab_type": "text"
      },
      "source": [
        "#(b) \n",
        "Count the number of bars produced by tick, volume, and dollar bars on a weekly basis."
      ]
    },
    {
      "cell_type": "code",
      "metadata": {
        "id": "K-hK8qajPfee",
        "colab_type": "code",
        "colab": {
          "base_uri": "https://localhost:8080/",
          "height": 238
        },
        "outputId": "335846de-7898-4cb6-d05f-66f0c4baab54"
      },
      "source": [
        "tick_idx = tick_bars.set_index('date_time', inplace=False)\n",
        "tick_count = tick_idx['close'].resample('W', label='right').count()\n",
        "tick_count"
      ],
      "execution_count": 50,
      "outputs": [
        {
          "output_type": "execute_result",
          "data": {
            "text/plain": [
              "date_time\n",
              "2019-11-03     8\n",
              "2019-11-10     8\n",
              "2019-11-17     7\n",
              "2019-11-24    11\n",
              "2019-12-01    12\n",
              "2019-12-08     9\n",
              "2019-12-15     7\n",
              "2019-12-22     9\n",
              "2019-12-29     7\n",
              "2020-01-05     9\n",
              "2020-01-12    13\n",
              "Freq: W-SUN, Name: close, dtype: int64"
            ]
          },
          "metadata": {
            "tags": []
          },
          "execution_count": 50
        }
      ]
    },
    {
      "cell_type": "code",
      "metadata": {
        "id": "m9ybgp3aQLJp",
        "colab_type": "code",
        "colab": {
          "base_uri": "https://localhost:8080/",
          "height": 238
        },
        "outputId": "4743fb5f-6b9c-4476-d32b-1764d7d687c9"
      },
      "source": [
        "dollar_idx = dollar_bars.set_index('date_time', inplace=False)\n",
        "dollar_count = dollar_idx['close'].resample('W', label='right').count()\n",
        "dollar_count"
      ],
      "execution_count": 51,
      "outputs": [
        {
          "output_type": "execute_result",
          "data": {
            "text/plain": [
              "date_time\n",
              "2019-11-03    13011\n",
              "2019-11-10    12471\n",
              "2019-11-17     9880\n",
              "2019-11-24    18134\n",
              "2019-12-01    19557\n",
              "2019-12-08    12934\n",
              "2019-12-15    10601\n",
              "2019-12-22    14719\n",
              "2019-12-29    12055\n",
              "2020-01-05    11044\n",
              "2020-01-12    21740\n",
              "Freq: W-SUN, Name: close, dtype: int64"
            ]
          },
          "metadata": {
            "tags": []
          },
          "execution_count": 51
        }
      ]
    },
    {
      "cell_type": "code",
      "metadata": {
        "id": "n_3RR9MbPI5Z",
        "colab_type": "code",
        "colab": {
          "base_uri": "https://localhost:8080/",
          "height": 238
        },
        "outputId": "fd15ec0e-1044-4979-e3e0-10a5d11cb072"
      },
      "source": [
        "volume_idx = volume_bars.set_index('date_time', inplace=False )\n",
        "volume_count = volume_idx['close'].resample('W', label='right').count()\n",
        "volume_count"
      ],
      "execution_count": 74,
      "outputs": [
        {
          "output_type": "execute_result",
          "data": {
            "text/plain": [
              "date_time\n",
              "2019-11-03    4182\n",
              "2019-11-10    3987\n",
              "2019-11-17    3357\n",
              "2019-11-24    6813\n",
              "2019-12-01    7594\n",
              "2019-12-08    4909\n",
              "2019-12-15    4177\n",
              "2019-12-22    5976\n",
              "2019-12-29    4765\n",
              "2020-01-05    4314\n",
              "2020-01-12    7850\n",
              "Freq: W-SUN, Name: close, dtype: int64"
            ]
          },
          "metadata": {
            "tags": []
          },
          "execution_count": 74
        }
      ]
    },
    {
      "cell_type": "code",
      "metadata": {
        "id": "b7siXU2LUcWh",
        "colab_type": "code",
        "colab": {
          "base_uri": "https://localhost:8080/",
          "height": 34
        },
        "outputId": "60c05f68-7928-4322-e1b9-0daac288c633"
      },
      "source": [
        "np.array(volume_count)"
      ],
      "execution_count": 88,
      "outputs": [
        {
          "output_type": "execute_result",
          "data": {
            "text/plain": [
              "array([4182, 3987, 3357, 6813, 7594, 4909, 4177, 5976, 4765, 4314, 7850])"
            ]
          },
          "metadata": {
            "tags": []
          },
          "execution_count": 88
        }
      ]
    },
    {
      "cell_type": "code",
      "metadata": {
        "id": "WZEHg_dBTW3i",
        "colab_type": "code",
        "colab": {}
      },
      "source": [
        "import matplotlib.pyplot as plt\n",
        "plt.plot([1,2,3,4])\n",
        "plt.show()"
      ],
      "execution_count": 0,
      "outputs": []
    }
  ]
}